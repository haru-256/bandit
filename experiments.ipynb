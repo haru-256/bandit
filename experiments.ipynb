{
 "cells": [
  {
   "cell_type": "markdown",
   "metadata": {},
   "source": [
    "# 実装したUCBが正しく動くかを人工データで確認"
   ]
  },
  {
   "cell_type": "code",
   "execution_count": 1,
   "metadata": {},
   "outputs": [],
   "source": [
    "%load_ext autoreload"
   ]
  },
  {
   "cell_type": "code",
   "execution_count": 2,
   "metadata": {},
   "outputs": [],
   "source": [
    "%autoreload\n",
    "from policy import UCB, UCB1, UCBOffline\n",
    "from sim import BernoulliBandit\n",
    "import numpy as np\n",
    "import matplotlib.pyplot as plt\n",
    "from tqdm.notebook import tqdm\n",
    "\n",
    "plt.style.use(\"seaborn-whitegrid\")"
   ]
  },
  {
   "cell_type": "markdown",
   "metadata": {},
   "source": [
    "## 問題設定"
   ]
  },
  {
   "cell_type": "code",
   "execution_count": 3,
   "metadata": {},
   "outputs": [],
   "source": [
    "n_arms = 2\n",
    "T = 100000\n",
    "log_size = 1\n",
    "mu = np.array((0.01, 0.02))\n",
    "n_rounds = T // log_size"
   ]
  },
  {
   "cell_type": "markdown",
   "metadata": {},
   "source": [
    "## 実験"
   ]
  },
  {
   "cell_type": "code",
   "execution_count": 4,
   "metadata": {},
   "outputs": [
    {
     "data": {
      "application/vnd.jupyter.widget-view+json": {
       "model_id": "77f64738f3a5485fab4d9c3ceb304ac1",
       "version_major": 2,
       "version_minor": 0
      },
      "text/plain": [
       "HBox(children=(FloatProgress(value=0.0, max=2.0), HTML(value='')))"
      ]
     },
     "metadata": {},
     "output_type": "display_data"
    },
    {
     "data": {
      "application/vnd.jupyter.widget-view+json": {
       "model_id": "",
       "version_major": 2,
       "version_minor": 0
      },
      "text/plain": [
       "HBox(children=(FloatProgress(value=0.0, max=100000.0), HTML(value='')))"
      ]
     },
     "metadata": {},
     "output_type": "display_data"
    },
    {
     "data": {
      "application/vnd.jupyter.widget-view+json": {
       "model_id": "",
       "version_major": 2,
       "version_minor": 0
      },
      "text/plain": [
       "HBox(children=(FloatProgress(value=0.0, max=100000.0), HTML(value='')))"
      ]
     },
     "metadata": {},
     "output_type": "display_data"
    },
    {
     "name": "stdout",
     "output_type": "stream",
     "text": [
      "\n"
     ]
    }
   ],
   "source": [
    "reward_generator = BernoulliBandit(n_arms=n_arms, mu=mu)\n",
    "policy_dict = {\n",
    "    \"ucb\": UCB(n_arms),\n",
    "    \"ucb1\": UCB1(n_arms),\n",
    "}\n",
    "\n",
    "selected_arm_history = {key: list() for key in policy_dict.keys()}\n",
    "for policy_name, policy in tqdm(policy_dict.items()):\n",
    "    np.random.seed(1025)\n",
    "    for n in tqdm(range(n_rounds), leave=False):\n",
    "        arm = policy.select_arm()\n",
    "        reward = reward_generator.pull(arm)\n",
    "        policy.update(arm, reward)\n",
    "        selected_arm_history[policy_name].append(arm)"
   ]
  },
  {
   "cell_type": "code",
   "execution_count": 5,
   "metadata": {},
   "outputs": [
    {
     "data": {
      "text/plain": [
       "<matplotlib.legend.Legend at 0x11d026310>"
      ]
     },
     "execution_count": 5,
     "metadata": {},
     "output_type": "execute_result"
    },
    {
     "data": {
      "image/png": "[encoded data removed]",
      "text/plain": [
       "<Figure size 432x288 with 1 Axes>"
      ]
     },
     "metadata": {},
     "output_type": "display_data"
    }
   ],
   "source": [
    "for policy_nam, policy in policy_dict.items():\n",
    "    mask = np.array(selected_arm_history[policy_nam]) == reward_generator.best_arm\n",
    "    plt.plot(np.cumsum(mask) / n_rounds, label=policy_nam)\n",
    "plt.legend()"
   ]
  },
  {
   "cell_type": "code",
   "execution_count": 6,
   "metadata": {},
   "outputs": [
    {
     "name": "stdout",
     "output_type": "stream",
     "text": [
      "[0.00990415 0.02059028]\n",
      "[0.02859002 0.0179042 ]\n"
     ]
    }
   ],
   "source": [
    "print(policy_dict[\"ucb1\"].mean_rewards)\n",
    "print(policy_dict[\"ucb1\"].correction_factor)"
   ]
  },
  {
   "cell_type": "code",
   "execution_count": 7,
   "metadata": {},
   "outputs": [
    {
     "name": "stdout",
     "output_type": "stream",
     "text": [
      "[0.00988478 0.02064981]\n",
      "[0.01903757 0.00827248]\n"
     ]
    }
   ],
   "source": [
    "print(policy_dict[\"ucb\"].mean_rewards)\n",
    "print(policy_dict[\"ucb\"].correction_factor)"
   ]
  },
  {
   "cell_type": "markdown",
   "metadata": {},
   "source": [
    "## 実験2 offline 学習\n",
    "ログが1000件ずつ与えられ、上から順にログのアームと選択したアームが等しいデータのみで学習"
   ]
  },
  {
   "cell_type": "code",
   "execution_count": 8,
   "metadata": {},
   "outputs": [],
   "source": [
    "n_arms = 2\n",
    "T = 1000000\n",
    "log_size = 1000\n",
    "mu = np.array((0.01, 0.02))\n",
    "n_rounds = T // log_size"
   ]
  },
  {
   "cell_type": "code",
   "execution_count": 9,
   "metadata": {},
   "outputs": [
    {
     "data": {
      "application/vnd.jupyter.widget-view+json": {
       "model_id": "74440d60867d459cbfab3319bf09a432",
       "version_major": 2,
       "version_minor": 0
      },
      "text/plain": [
       "HBox(children=(FloatProgress(value=0.0, max=2.0), HTML(value='')))"
      ]
     },
     "metadata": {},
     "output_type": "display_data"
    },
    {
     "data": {
      "application/vnd.jupyter.widget-view+json": {
       "model_id": "",
       "version_major": 2,
       "version_minor": 0
      },
      "text/plain": [
       "HBox(children=(FloatProgress(value=0.0, max=1000.0), HTML(value='')))"
      ]
     },
     "metadata": {},
     "output_type": "display_data"
    },
    {
     "data": {
      "application/vnd.jupyter.widget-view+json": {
       "model_id": "",
       "version_major": 2,
       "version_minor": 0
      },
      "text/plain": [
       "HBox(children=(FloatProgress(value=0.0, max=1000.0), HTML(value='')))"
      ]
     },
     "metadata": {},
     "output_type": "display_data"
    },
    {
     "name": "stdout",
     "output_type": "stream",
     "text": [
      "\n"
     ]
    }
   ],
   "source": [
    "reward_generator = BernoulliBandit(n_arms=n_arms, mu=mu)\n",
    "policy_dict = {\"ucb\": UCB(n_arms), \"ucb1\": UCB1(n_arms)}\n",
    "\n",
    "selected_arm_history = {key: list() for key in policy_dict.keys()}\n",
    "cnt = 0\n",
    "for policy_name, policy in tqdm(policy_dict.items()):\n",
    "    np.random.seed(1025)\n",
    "    for n in tqdm(range(n_rounds), leave=False):\n",
    "        # offline phase (inference)\n",
    "        arm = policy.select_arm()  # armの選択\n",
    "        selected_arm_history[policy_name].append(arm)\n",
    "        # online phase\n",
    "        ## log size分報酬を取得。選択しなかったアームの報酬は得られない\n",
    "        log = []\n",
    "        for _ in range(log_size):\n",
    "            log.append(reward_generator.pull(arm))\n",
    "        log = np.asarray(log)\n",
    "        # offline phase (learing)\n",
    "        for reward in log:\n",
    "            policy_arm = policy.select_arm()\n",
    "            if arm == policy_arm:\n",
    "                policy.update(arm, reward)\n",
    "                cnt += 1"
   ]
  },
  {
   "cell_type": "code",
   "execution_count": 10,
   "metadata": {},
   "outputs": [
    {
     "data": {
      "text/plain": [
       "<matplotlib.legend.Legend at 0x11db835d0>"
      ]
     },
     "execution_count": 10,
     "metadata": {},
     "output_type": "execute_result"
    },
    {
     "data": {
      "image/png": "[encoded data removed]",
      "text/plain": [
       "<Figure size 432x288 with 1 Axes>"
      ]
     },
     "metadata": {},
     "output_type": "display_data"
    }
   ],
   "source": [
    "for policy_nam, policy in policy_dict.items():\n",
    "    mask = np.array(selected_arm_history[policy_nam]) == reward_generator.best_arm\n",
    "    plt.plot(np.cumsum(mask) / n_rounds, label=policy_nam)\n",
    "plt.legend()"
   ]
  },
  {
   "cell_type": "code",
   "execution_count": 11,
   "metadata": {},
   "outputs": [
    {
     "name": "stdout",
     "output_type": "stream",
     "text": [
      "[0.01284109 0.01612903]\n",
      "[0.07587879 0.07252241]\n"
     ]
    }
   ],
   "source": [
    "print(policy_dict[\"ucb\"].mean_rewards)\n",
    "print(policy_dict[\"ucb\"].correction_factor)"
   ]
  },
  {
   "cell_type": "code",
   "execution_count": 12,
   "metadata": {},
   "outputs": [
    {
     "name": "stdout",
     "output_type": "stream",
     "text": [
      "[0.01088929 0.01541096]\n",
      "[0.15979102 0.15521073]\n"
     ]
    }
   ],
   "source": [
    "print(policy_dict[\"ucb1\"].mean_rewards)\n",
    "print(policy_dict[\"ucb1\"].correction_factor)"
   ]
  },
  {
   "cell_type": "markdown",
   "metadata": {},
   "source": [
    "### offline学習でも報酬をログの報酬の平均とする実験"
   ]
  },
  {
   "cell_type": "code",
   "execution_count": 13,
   "metadata": {},
   "outputs": [],
   "source": [
    "# 設定は同じ\n",
    "n_arms = 2\n",
    "T = 1000000\n",
    "log_size = 1000\n",
    "mu = np.array((0.01, 0.02))\n",
    "n_rounds = T // log_size"
   ]
  },
  {
   "cell_type": "code",
   "execution_count": 14,
   "metadata": {},
   "outputs": [
    {
     "data": {
      "application/vnd.jupyter.widget-view+json": {
       "model_id": "1aee7cf0ef2a49f59fdc80ad4c8f428f",
       "version_major": 2,
       "version_minor": 0
      },
      "text/plain": [
       "HBox(children=(FloatProgress(value=0.0, max=3.0), HTML(value='')))"
      ]
     },
     "metadata": {},
     "output_type": "display_data"
    },
    {
     "data": {
      "application/vnd.jupyter.widget-view+json": {
       "model_id": "",
       "version_major": 2,
       "version_minor": 0
      },
      "text/plain": [
       "HBox(children=(FloatProgress(value=0.0, max=1000.0), HTML(value='')))"
      ]
     },
     "metadata": {},
     "output_type": "display_data"
    },
    {
     "data": {
      "application/vnd.jupyter.widget-view+json": {
       "model_id": "",
       "version_major": 2,
       "version_minor": 0
      },
      "text/plain": [
       "HBox(children=(FloatProgress(value=0.0, max=1000.0), HTML(value='')))"
      ]
     },
     "metadata": {},
     "output_type": "display_data"
    },
    {
     "data": {
      "application/vnd.jupyter.widget-view+json": {
       "model_id": "",
       "version_major": 2,
       "version_minor": 0
      },
      "text/plain": [
       "HBox(children=(FloatProgress(value=0.0, max=1000.0), HTML(value='')))"
      ]
     },
     "metadata": {},
     "output_type": "display_data"
    },
    {
     "name": "stdout",
     "output_type": "stream",
     "text": [
      "\n"
     ]
    }
   ],
   "source": [
    "reward_generator = BernoulliBandit(n_arms=n_arms, mu=mu)\n",
    "policy_dict = {\n",
    "    \"ucb\": UCB(n_arms),\n",
    "    \"ucb1\": UCB1(n_arms),\n",
    "    \"ucb_offline\": UCBOffline(n_arms),\n",
    "}\n",
    "\n",
    "selected_arm_history = {key: list() for key in policy_dict.keys()}\n",
    "cnt = 0\n",
    "for policy_name, policy in tqdm(policy_dict.items()):\n",
    "    np.random.seed(1026)\n",
    "    for n in tqdm(range(n_rounds), leave=False):\n",
    "        # offline phase (inference)\n",
    "        arm = policy.select_arm()  # armの選択\n",
    "        selected_arm_history[policy_name].append(arm)\n",
    "        # online phase\n",
    "        ## log size分報酬を取得。選択しなかったアームの報酬は得られない\n",
    "        log = []\n",
    "        for _ in range(log_size):\n",
    "            log.append(reward_generator.pull(arm))\n",
    "        log = np.asarray(log)\n",
    "        # offline phase (learing)\n",
    "        if policy_name == \"ucb_offline\":\n",
    "            policy.update(arm, log)\n",
    "        else:\n",
    "            reward = log.mean()  # 平均を報酬とする（つまりctrが報酬）\n",
    "            policy.update(arm, reward)"
   ]
  },
  {
   "cell_type": "code",
   "execution_count": 15,
   "metadata": {},
   "outputs": [
    {
     "data": {
      "text/plain": [
       "<matplotlib.legend.Legend at 0x11df29410>"
      ]
     },
     "execution_count": 15,
     "metadata": {},
     "output_type": "execute_result"
    },
    {
     "data": {
      "image/png": "[encoded data removed]",
      "text/plain": [
       "<Figure size 432x288 with 1 Axes>"
      ]
     },
     "metadata": {},
     "output_type": "display_data"
    }
   ],
   "source": [
    "for policy_nam, policy in policy_dict.items():\n",
    "    mask = np.array(selected_arm_history[policy_nam]) == reward_generator.best_arm\n",
    "    plt.plot(np.cumsum(mask) / n_rounds, label=policy_nam)\n",
    "plt.legend()"
   ]
  },
  {
   "cell_type": "code",
   "execution_count": 16,
   "metadata": {},
   "outputs": [
    {
     "name": "stdout",
     "output_type": "stream",
     "text": [
      "[0.0099385  0.02015686]\n",
      "[0.08869951 0.07846429]\n"
     ]
    }
   ],
   "source": [
    "print(policy_dict[\"ucb\"].mean_rewards)\n",
    "print(policy_dict[\"ucb\"].correction_factor)"
   ]
  },
  {
   "cell_type": "code",
   "execution_count": 17,
   "metadata": {},
   "outputs": [
    {
     "name": "stdout",
     "output_type": "stream",
     "text": [
      "[0.01021444 0.02004348]\n",
      "[0.17126673 0.16160531]\n"
     ]
    }
   ],
   "source": [
    "print(policy_dict[\"ucb1\"].mean_rewards)\n",
    "print(policy_dict[\"ucb1\"].correction_factor)"
   ]
  },
  {
   "cell_type": "code",
   "execution_count": 18,
   "metadata": {},
   "outputs": [
    {
     "name": "stdout",
     "output_type": "stream",
     "text": [
      "[0.00946154 0.02010198]\n",
      "[0.01330872 0.00268106]\n"
     ]
    }
   ],
   "source": [
    "print(policy_dict[\"ucb_offline\"].mean_rewards)\n",
    "print(policy_dict[\"ucb_offline\"].correction_factor)"
   ]
  },
  {
   "cell_type": "markdown",
   "metadata": {},
   "source": [
    "## 実験3 logがランダムな長さで与えられる場合\n",
    "実験2ではログは1000件ずつ与えられていたが、100 ~ 1000件のうちランダムにログ件数が得られるという実験の設定"
   ]
  },
  {
   "cell_type": "code",
   "execution_count": 26,
   "metadata": {},
   "outputs": [],
   "source": [
    "n_arms = 2\n",
    "T = 1000000\n",
    "mu = np.array((0.01, 0.015))"
   ]
  },
  {
   "cell_type": "code",
   "execution_count": 27,
   "metadata": {},
   "outputs": [
    {
     "data": {
      "application/vnd.jupyter.widget-view+json": {
       "model_id": "f1018b4fc3bf4be38b46b313b533f3c1",
       "version_major": 2,
       "version_minor": 0
      },
      "text/plain": [
       "HBox(children=(FloatProgress(value=0.0, max=3.0), HTML(value='')))"
      ]
     },
     "metadata": {},
     "output_type": "display_data"
    },
    {
     "name": "stdout",
     "output_type": "stream",
     "text": [
      "\n"
     ]
    }
   ],
   "source": [
    "reward_generator = BernoulliBandit(n_arms=n_arms, mu=mu)\n",
    "policy_dict = {\n",
    "    \"ucb\": UCB(n_arms),\n",
    "    \"ucb1\": UCB1(n_arms),\n",
    "    \"ucb_offline\": UCBOffline(n_arms),\n",
    "}\n",
    "selected_arm_history = {key: list() for key in policy_dict.keys()}\n",
    "for policy_name, policy in tqdm(policy_dict.items()):\n",
    "    np.random.seed(1025)\n",
    "    cnt = 0\n",
    "    n_rounds = 0\n",
    "    while cnt <= T:\n",
    "        log_size = np.random.randint(1, 1000)\n",
    "        # offline phase (inference)\n",
    "        arm = policy.select_arm()  # armの選択\n",
    "        selected_arm_history[policy_name].append(arm)\n",
    "        # online phase\n",
    "        ## log size分報酬を取得。選択しなかったアームの報酬は得られない\n",
    "        log = []\n",
    "        for _ in range(log_size):\n",
    "            log.append(reward_generator.pull(arm))\n",
    "        log = np.asarray(log)\n",
    "        # offline phase (learing)\n",
    "        if policy_name == \"ucb_offline\":\n",
    "            policy.update(arm, log)\n",
    "        else:\n",
    "            reward = log.mean()  # 平均を報酬とする（つまりctrが報酬）\n",
    "            policy.update(arm, reward)\n",
    "        cnt += log_size\n",
    "        n_rounds += 1"
   ]
  },
  {
   "cell_type": "code",
   "execution_count": 28,
   "metadata": {},
   "outputs": [
    {
     "data": {
      "text/plain": [
       "<matplotlib.legend.Legend at 0x11eb13150>"
      ]
     },
     "execution_count": 28,
     "metadata": {},
     "output_type": "execute_result"
    },
    {
     "data": {
      "image/png": "[encoded data removed]",
      "text/plain": [
       "<Figure size 432x288 with 1 Axes>"
      ]
     },
     "metadata": {},
     "output_type": "display_data"
    }
   ],
   "source": [
    "for policy_nam, policy in policy_dict.items():\n",
    "    mask = np.array(selected_arm_history[policy_nam]) == reward_generator.best_arm\n",
    "    plt.plot(np.cumsum(mask) / n_rounds, label=policy_nam)\n",
    "plt.legend()"
   ]
  },
  {
   "cell_type": "code",
   "execution_count": 29,
   "metadata": {},
   "outputs": [
    {
     "name": "stdout",
     "output_type": "stream",
     "text": [
      "[0.01022477 0.01511585]\n",
      "[0.06423737 0.05934811]\n"
     ]
    }
   ],
   "source": [
    "print(policy_dict[\"ucb\"].mean_rewards)\n",
    "print(policy_dict[\"ucb\"].correction_factor)"
   ]
  },
  {
   "cell_type": "code",
   "execution_count": 30,
   "metadata": {},
   "outputs": [
    {
     "name": "stdout",
     "output_type": "stream",
     "text": [
      "[0.01008045 0.0151392 ]\n",
      "[0.12590364 0.1208432 ]\n"
     ]
    }
   ],
   "source": [
    "print(policy_dict[\"ucb1\"].mean_rewards)\n",
    "print(policy_dict[\"ucb1\"].correction_factor)"
   ]
  },
  {
   "cell_type": "code",
   "execution_count": 31,
   "metadata": {},
   "outputs": [
    {
     "name": "stdout",
     "output_type": "stream",
     "text": [
      "[0.00986141 0.01506001]\n",
      "[0.0079528  0.00278468]\n"
     ]
    }
   ],
   "source": [
    "print(policy_dict[\"ucb_offline\"].mean_rewards)\n",
    "print(policy_dict[\"ucb_offline\"].correction_factor)"
   ]
  },
  {
   "cell_type": "code",
   "execution_count": null,
   "metadata": {},
   "outputs": [],
   "source": []
  }
 ],
 "metadata": {
  "kernelspec": {
   "display_name": "Python 3",
   "language": "python",
   "name": "python3"
  },
  "language_info": {
   "codemirror_mode": {
    "name": "ipython",
    "version": 3
   },
   "file_extension": ".py",
   "mimetype": "text/x-python",
   "name": "python",
   "nbconvert_exporter": "python",
   "pygments_lexer": "ipython3",
   "version": "3.7.8"
  },
  "toc": {
   "base_numbering": 1,
   "nav_menu": {},
   "number_sections": true,
   "sideBar": true,
   "skip_h1_title": false,
   "title_cell": "Table of Contents",
   "title_sidebar": "Contents",
   "toc_cell": false,
   "toc_position": {},
   "toc_section_display": true,
   "toc_window_display": true
  }
 },
 "nbformat": 4,
 "nbformat_minor": 4
}
